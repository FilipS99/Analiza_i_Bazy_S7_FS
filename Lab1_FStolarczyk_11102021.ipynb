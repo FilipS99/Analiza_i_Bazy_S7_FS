{
 "cells": [
  {
   "cell_type": "markdown",
   "id": "acf72789",
   "metadata": {},
   "source": [
    "# **Analiza i bazy danych 11.10.2021**\n",
    "\n",
    "Filip Stolarczyk"
   ]
  },
  {
   "cell_type": "markdown",
   "id": "a2a262c2",
   "metadata": {},
   "source": [
    "**Zadanie  3.**\n",
    "\n",
    "Opis ćwiczenia:\n",
    "Zapoznanie z Jupyter Notebook oraz biblioteką Matplotlib."
   ]
  },
  {
   "cell_type": "markdown",
   "id": "0069526b",
   "metadata": {},
   "source": [
    "Definiuję potrzebne biblioteki:"
   ]
  },
  {
   "cell_type": "code",
   "execution_count": 23,
   "id": "5786d33e",
   "metadata": {},
   "outputs": [],
   "source": [
    "import matplotlib.pyplot as plt\n",
    "import numpy as np"
   ]
  },
  {
   "cell_type": "markdown",
   "id": "cf851712",
   "metadata": {},
   "source": [
    "Definiuję funkcję f(x):"
   ]
  },
  {
   "cell_type": "code",
   "execution_count": 5,
   "id": "95f963f1",
   "metadata": {},
   "outputs": [],
   "source": [
    "def f(x):\n",
    "    return x**2+5"
   ]
  },
  {
   "cell_type": "markdown",
   "id": "ed495277",
   "metadata": {},
   "source": [
    "Wykonuję wykresy: tworzę potrzebne zmienne wykorzystując stworzoną funkcję, opisuję osie, tytuł, legendę i narzucam siatkę:"
   ]
  },
  {
   "cell_type": "code",
   "execution_count": 22,
   "id": "b6d14a0e",
   "metadata": {},
   "outputs": [
    {
     "data": {
      "image/png": "[encoded data removed]",
      "text/plain": [
       "<Figure size 432x288 with 1 Axes>"
      ]
     },
     "metadata": {
      "needs_background": "light"
     },
     "output_type": "display_data"
    }
   ],
   "source": [
    "# 1\n",
    "y1 = np.linspace(-1,1,100)\n",
    "y2 = np.linspace(-6,6,100)\n",
    "y3 = np.linspace(0,5,100)\n",
    "x1 = f(y1)\n",
    "x2 = f(y2)\n",
    "x3 = f(y3)\n",
    "\n",
    "plt.plot(y2,x2)\n",
    "plt.plot(y3,x3)\n",
    "plt.plot(y1,x1)\n",
    "plt.xlabel(\"X\")\n",
    "plt.ylabel(\"Y\")\n",
    "plt.grid()\n",
    "plt.title(\"Wykres funkcji f(x)\")\n",
    "plt.legend([\"(-6,6)\", \"(0,5)\", \"(-1,1)\"])\n",
    "plt.show()"
   ]
  },
  {
   "cell_type": "markdown",
   "id": "620594f0",
   "metadata": {},
   "source": [
    "**Zadanie  4.**\n",
    "\n",
    "Opis ćwiczenia:\n",
    "Zapoznanie z biblioteką pandas i strukturą DataFrame"
   ]
  },
  {
   "cell_type": "markdown",
   "id": "8e6c04a1",
   "metadata": {},
   "source": [
    "Definiuję potrzebne biblioteki:"
   ]
  },
  {
   "cell_type": "code",
   "execution_count": 24,
   "id": "b53dff77",
   "metadata": {},
   "outputs": [],
   "source": [
    "import pandas as pd"
   ]
  },
  {
   "cell_type": "markdown",
   "id": "eaf65c99",
   "metadata": {},
   "source": [
    "Definiuję DataFrame:"
   ]
  },
  {
   "cell_type": "code",
   "execution_count": 30,
   "id": "43c8c4a9",
   "metadata": {},
   "outputs": [],
   "source": [
    "data = {\n",
    "    'name': np.array([\"A\", \"B\", \"C\", \"D\", \"E\"]),\n",
    "    'surname': np.array([\"F\", \"G\", \"H\", \"I\", \"J\"]),\n",
    "    'age': np.array([\"20\", \"21\", \"22\", \"23\", \"24\"]),\n",
    "    'sex': np.array([\"male\", \"male\", \"female\", \"female\", \"male\"])\n",
    "}\n",
    "\n",
    "df = pd.DataFrame(data)"
   ]
  },
  {
   "cell_type": "markdown",
   "id": "2a952f56",
   "metadata": {},
   "source": [
    "Opisuję ogólne dane o dataframe:"
   ]
  },
  {
   "cell_type": "code",
   "execution_count": 32,
   "id": "6f35a7b6",
   "metadata": {},
   "outputs": [
    {
     "name": "stdout",
     "output_type": "stream",
     "text": [
      "<class 'pandas.core.frame.DataFrame'>\n",
      "RangeIndex: 5 entries, 0 to 4\n",
      "Data columns (total 4 columns):\n",
      " #   Column   Non-Null Count  Dtype \n",
      "---  ------   --------------  ----- \n",
      " 0   name     5 non-null      object\n",
      " 1   surname  5 non-null      object\n",
      " 2   age      5 non-null      object\n",
      " 3   sex      5 non-null      object\n",
      "dtypes: object(4)\n",
      "memory usage: 288.0+ bytes\n"
     ]
    }
   ],
   "source": [
    "df.info()"
   ]
  },
  {
   "cell_type": "code",
   "execution_count": 33,
   "id": "e6f15dee",
   "metadata": {},
   "outputs": [
    {
     "data": {
      "text/html": [
       "<div>\n",
       "<style scoped>\n",
       "    .dataframe tbody tr th:only-of-type {\n",
       "        vertical-align: middle;\n",
       "    }\n",
       "\n",
       "    .dataframe tbody tr th {\n",
       "        vertical-align: top;\n",
       "    }\n",
       "\n",
       "    .dataframe thead th {\n",
       "        text-align: right;\n",
       "    }\n",
       "</style>\n",
       "<table border=\"1\" class=\"dataframe\">\n",
       "  <thead>\n",
       "    <tr style=\"text-align: right;\">\n",
       "      <th></th>\n",
       "      <th>name</th>\n",
       "      <th>surname</th>\n",
       "      <th>age</th>\n",
       "      <th>sex</th>\n",
       "    </tr>\n",
       "  </thead>\n",
       "  <tbody>\n",
       "    <tr>\n",
       "      <th>count</th>\n",
       "      <td>5</td>\n",
       "      <td>5</td>\n",
       "      <td>5</td>\n",
       "      <td>5</td>\n",
       "    </tr>\n",
       "    <tr>\n",
       "      <th>unique</th>\n",
       "      <td>5</td>\n",
       "      <td>5</td>\n",
       "      <td>5</td>\n",
       "      <td>2</td>\n",
       "    </tr>\n",
       "    <tr>\n",
       "      <th>top</th>\n",
       "      <td>A</td>\n",
       "      <td>F</td>\n",
       "      <td>20</td>\n",
       "      <td>male</td>\n",
       "    </tr>\n",
       "    <tr>\n",
       "      <th>freq</th>\n",
       "      <td>1</td>\n",
       "      <td>1</td>\n",
       "      <td>1</td>\n",
       "      <td>3</td>\n",
       "    </tr>\n",
       "  </tbody>\n",
       "</table>\n",
       "</div>"
      ],
      "text/plain": [
       "       name surname age   sex\n",
       "count     5       5   5     5\n",
       "unique    5       5   5     2\n",
       "top       A       F  20  male\n",
       "freq      1       1   1     3"
      ]
     },
     "execution_count": 33,
     "metadata": {},
     "output_type": "execute_result"
    }
   ],
   "source": [
    "df.describe()"
   ]
  },
  {
   "cell_type": "code",
   "execution_count": 34,
   "id": "e744a8e8",
   "metadata": {},
   "outputs": [
    {
     "data": {
      "text/html": [
       "<div>\n",
       "<style scoped>\n",
       "    .dataframe tbody tr th:only-of-type {\n",
       "        vertical-align: middle;\n",
       "    }\n",
       "\n",
       "    .dataframe tbody tr th {\n",
       "        vertical-align: top;\n",
       "    }\n",
       "\n",
       "    .dataframe thead th {\n",
       "        text-align: right;\n",
       "    }\n",
       "</style>\n",
       "<table border=\"1\" class=\"dataframe\">\n",
       "  <thead>\n",
       "    <tr style=\"text-align: right;\">\n",
       "      <th></th>\n",
       "      <th>name</th>\n",
       "      <th>surname</th>\n",
       "      <th>age</th>\n",
       "      <th>sex</th>\n",
       "    </tr>\n",
       "  </thead>\n",
       "  <tbody>\n",
       "    <tr>\n",
       "      <th>0</th>\n",
       "      <td>A</td>\n",
       "      <td>F</td>\n",
       "      <td>20</td>\n",
       "      <td>male</td>\n",
       "    </tr>\n",
       "    <tr>\n",
       "      <th>1</th>\n",
       "      <td>B</td>\n",
       "      <td>G</td>\n",
       "      <td>21</td>\n",
       "      <td>male</td>\n",
       "    </tr>\n",
       "    <tr>\n",
       "      <th>2</th>\n",
       "      <td>C</td>\n",
       "      <td>H</td>\n",
       "      <td>22</td>\n",
       "      <td>female</td>\n",
       "    </tr>\n",
       "  </tbody>\n",
       "</table>\n",
       "</div>"
      ],
      "text/plain": [
       "  name surname age     sex\n",
       "0    A       F  20    male\n",
       "1    B       G  21    male\n",
       "2    C       H  22  female"
      ]
     },
     "execution_count": 34,
     "metadata": {},
     "output_type": "execute_result"
    }
   ],
   "source": [
    "df.head(3)"
   ]
  }
 ],
 "metadata": {
  "kernelspec": {
   "display_name": "Python 3 (ipykernel)",
   "language": "python",
   "name": "python3"
  },
  "language_info": {
   "codemirror_mode": {
    "name": "ipython",
    "version": 3
   },
   "file_extension": ".py",
   "mimetype": "text/x-python",
   "name": "python",
   "nbconvert_exporter": "python",
   "pygments_lexer": "ipython3",
   "version": "3.9.7"
  }
 },
 "nbformat": 4,
 "nbformat_minor": 5
}
